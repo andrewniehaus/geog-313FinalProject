{
 "cells": [
  {
   "cell_type": "code",
   "execution_count": null,
   "id": "a92b5fa8-07dc-4304-ac92-f6eab4d4132b",
   "metadata": {},
   "outputs": [],
   "source": [
    "### I've added some dask operations and functionality on top of what the \n",
    "### original tutorial had but it's mostly Hamed's code from Raster Processing class 15"
   ]
  },
  {
   "cell_type": "code",
   "execution_count": null,
   "id": "c8a5049c-6c1e-4d15-96a3-5e42950c0501",
   "metadata": {},
   "outputs": [],
   "source": [
    "import xarray as xr\n",
    "import rioxarray as rxr\n",
    "from rioxarray.merge import merge_datasets\n",
    "import numpy as np\n",
    "import pyproj\n",
    "from rasterio.enums import Resampling\n",
    "from shapely.geometry import box, mapping\n",
    "from dask.distributed import Client\n",
    "from dask import delayed\n",
    "\n",
    "import os\n",
    "import requests\n",
    "from tqdm import tqdm\n",
    "import dask.array as da\n",
    "\n",
    "import pystac_client\n",
    "import planetary_computer\n",
    "from dask.diagnostics import ProgressBar  # Useful for monitoring progress\n"
   ]
  },
  {
   "cell_type": "code",
   "execution_count": null,
   "id": "557e1c4f-c26a-439b-a9ec-99abcc07af8f",
   "metadata": {},
   "outputs": [],
   "source": [
    "client = Client(memory_limit='4GB')  # Adjust the memory limit based on your system's capacity"
   ]
  },
  {
   "cell_type": "code",
   "execution_count": null,
   "id": "4c7794e2-4cf1-4629-88d2-1e7896dd654f",
   "metadata": {},
   "outputs": [],
   "source": [
    "def retrieve_stac_items_bbox(url, collection, bbox, datetime, max_items=10, pc_flag=False, max_cloud_cover=2): \n",
    "    \"\"\"\n",
    "    This function retrieves the latest STAC items from a STAC API, filtered by cloud cover.\n",
    "    \n",
    "    Parameters\n",
    "    ----------\n",
    "    url : str\n",
    "        The STAC API URL\n",
    "    collection : str\n",
    "        Collection ID to search in the STAC API\n",
    "    bbox : list or tuple\n",
    "        A tuple or list with coordinates of the target area for API search in the format (min x, min y, max x, max y)\n",
    "    datetime : str\n",
    "        ISO-8601 formatted date range, e.g., \"2020-01-01/2020-12-31\".\n",
    "    pc_flag : boolean\n",
    "        A boolean flag to specify whether the STAC API is Microsoft's planetary computer API. Default is set to False.\n",
    "    max_items : integer\n",
    "        Maximum number of items to retrieve from the STAC API. Default is 10.\n",
    "    max_cloud_cover : float\n",
    "        Maximum allowed cloud cover percentage for filtering. Default is 2%.\n",
    "\n",
    "    Returns\n",
    "    -------\n",
    "    items : Generator\n",
    "        The STAC item collection matching the query parameters.\n",
    "    \"\"\"\n",
    "    if pc_flag:\n",
    "        modifier = planetary_computer.sign_inplace\n",
    "    else:\n",
    "        modifier = None\n",
    "        \n",
    "    catalog = pystac_client.Client.open(\n",
    "        url=url,\n",
    "        modifier=modifier,\n",
    "    )\n",
    "\n",
    "    # Query for items, including the cloud cover filter\n",
    "    search_results = catalog.search(\n",
    "        collections=[collection],\n",
    "        bbox=bbox,\n",
    "        datetime=datetime,  # ISO-8601 formatted date range\n",
    "        query={\"eo:cloud_cover\": {\"lt\": max_cloud_cover}},  # Cloud cover filter\n",
    "        sortby=[\"-properties.datetime\"],\n",
    "        max_items=max_items\n",
    "    )\n",
    "    items = search_results.item_collection()\n",
    "\n",
    "    return items"
   ]
  },
  {
   "cell_type": "code",
   "execution_count": null,
   "id": "201d1c81-5f91-427b-9b10-e9de18b6f93e",
   "metadata": {},
   "outputs": [],
   "source": [
    "# Define parameters for Charlottesville, Virginia (1-degree square around the city center)\n",
    "url = \"https://planetarycomputer.microsoft.com/api/stac/v1\"\n",
    "collection = \"landsat-c2-l2\"\n",
    "\n",
    "bbox = [-79.5, 37.9, -78.5, 38.9]  # 1-degree square bounding box around Charlottesville\n",
    "bbox_geometry = mapping(box(*bbox))\n",
    "time_range = \"2020-01-01/2020-12-31\""
   ]
  },
  {
   "cell_type": "code",
   "execution_count": null,
   "id": "e18720f3-5f36-4d04-8c62-935b6137f0f5",
   "metadata": {},
   "outputs": [],
   "source": [
    "# Query Landsat images for the bounding box and time range\n",
    "items = retrieve_stac_items_bbox(\n",
    "    url=url,\n",
    "    collection=collection,\n",
    "    bbox=bbox,\n",
    "    datetime=time_range,  # Pass the time range directly\n",
    "    max_items=1000,  # Retrieve up to 10 images\n",
    "    pc_flag=True  # Use Planetary Computer API\n",
    ")\n",
    "\n",
    "# # Print the retrieved items\n",
    "# for item in items:\n",
    "#     print(item.id, item.properties[\"datetime\"])\n"
   ]
  },
  {
   "cell_type": "code",
   "execution_count": null,
   "id": "fa424d78-443f-4206-ad4f-d339cfa64fbe",
   "metadata": {},
   "outputs": [],
   "source": [
    "def gen_stac_asset_urls(items, asset):\n",
    "    \"\"\"\n",
    "    This function receives an items collection returned by a STAC API, and returns\n",
    "    the urls of the requested `asset` in a list. \n",
    "\n",
    "    Inputs:\n",
    "        items : json collection\n",
    "            A STAC items collection returned by STAC API\n",
    "        asset : string\n",
    "            Name of an asset present in the `items` collection\n",
    "\n",
    "    Returns:\n",
    "        urls : list\n",
    "            List of all usls related to the `asset`\n",
    "            \n",
    "    \"\"\"\n",
    "\n",
    "    urls = []\n",
    "    for item in items:\n",
    "        urls.append(item.assets[asset].href)\n",
    "    \n",
    "    return urls"
   ]
  },
  {
   "cell_type": "code",
   "execution_count": null,
   "id": "29afe96a-7f98-458c-a58e-e3f8fce6cc74",
   "metadata": {},
   "outputs": [],
   "source": [
    "# Example of loading red, green, and blue band URLs using Dask\n",
    "red_urls = gen_stac_asset_urls(items, \"red\")\n",
    "green_urls = gen_stac_asset_urls(items, \"green\")\n",
    "blue_urls = gen_stac_asset_urls(items, \"blue\")\n"
   ]
  },
  {
   "cell_type": "code",
   "execution_count": null,
   "id": "00e67d37-e588-4b32-8554-f454e561c423",
   "metadata": {},
   "outputs": [],
   "source": [
    "with ProgressBar():\n",
    "    red_datasets = open_rasters_with_dask(red_urls)\n",
    "    green_datasets = open_rasters_with_dask(green_urls)\n",
    "    blue_datasets = open_rasters_with_dask(blue_urls)\n"
   ]
  },
  {
   "cell_type": "code",
   "execution_count": null,
   "id": "5fb755e2-478c-438b-803f-783a6c623f76",
   "metadata": {},
   "outputs": [],
   "source": [
    "def merge_in_batches(datasets, batch_size=5):\n",
    "    merged_result = None\n",
    "    for i in range(0, len(datasets), batch_size):\n",
    "        batch = datasets[i:i + batch_size]\n",
    "        batch_merged = xr.merge(batch)  # Merge the current batch\n",
    "        if merged_result is None:\n",
    "            merged_result = batch_merged\n",
    "        else:\n",
    "            merged_result = xr.merge([merged_result, batch_merged])  # Merge with previous result\n",
    "    return merged_result"
   ]
  },
  {
   "cell_type": "code",
   "execution_count": null,
   "id": "c6b7da94-77e3-427d-8e69-b3a95ac574d2",
   "metadata": {},
   "outputs": [],
   "source": [
    "def dask_merge_datasets(datasets):\n",
    "    # Use delayed to merge datasets in batches\n",
    "    delayed_batches = merge_in_batches(datasets)\n",
    "    \n",
    "    # Convert merged dataset to Dask array\n",
    "    # We chunk the merged dataset after the delayed operations\n",
    "    dask_array = delayed_batches.chunk({'x': 1024, 'y': 1024})  # Ensure chunking is efficient\n",
    "    \n",
    "    # Compute the result in parallel once all tasks are delayed\n",
    "    result = dask.compute(dask_array)\n",
    "    return result[0]  # Return the first element, which is the result of the delayed computation"
   ]
  },
  {
   "cell_type": "code",
   "execution_count": null,
   "id": "40e3eca0-036c-4372-a05f-0687cc7be476",
   "metadata": {},
   "outputs": [],
   "source": [
    "# Mosaicking process with Dask\n",
    "with ProgressBar():\n",
    "    mosaic_red = dask_merge_datasets(red_datasets)\n",
    "    mosaic_blue = dask_merge_datasets(blue_datasets)\n",
    "    mosaic_green = dask_merge_datasets(green_datasets)"
   ]
  },
  {
   "cell_type": "code",
   "execution_count": null,
   "id": "b5298e1a-c06b-4706-81ad-57b884ea3210",
   "metadata": {},
   "outputs": [],
   "source": [
    "# Clip function for Dask\n",
    "def dask_clip(dask_array, bbox_geometry, crs=4326):\n",
    "    \"\"\"\n",
    "    Clip a Dask array lazily to a given bounding box using RioClip.\n",
    "    \n",
    "    Parameters\n",
    "    ----------\n",
    "    dask_array : xarray.DataArray or dask.array\n",
    "        The Dask array to be clipped.\n",
    "    bbox_geometry : dict\n",
    "        The geometry for clipping (GeoJSON format).\n",
    "    crs : int, optional\n",
    "        The coordinate reference system (CRS) for the bounding box, default is 4326.\n",
    "        \n",
    "    Returns\n",
    "    -------\n",
    "    clipped : xarray.DataArray\n",
    "        The clipped Dask array.\n",
    "    \"\"\"\n",
    "    return dask_array.rio.clip([bbox_geometry], crs=crs)"
   ]
  },
  {
   "cell_type": "code",
   "execution_count": null,
   "id": "d6a0b57f-dcc0-42c3-a69e-daeba8ffa87d",
   "metadata": {},
   "outputs": [],
   "source": [
    "with ProgressBar():\n",
    "    mosaic_red = dask_clip(mosaic_red, bbox_geometry)\n",
    "    mosaic_blue = dask_clip(mosaic_blue, bbox_geometry)\n",
    "    mosaic_green = dask_clip(mosaic_green, bbox_geometry)"
   ]
  },
  {
   "cell_type": "code",
   "execution_count": null,
   "id": "a16d5288-30e0-4fad-a2a6-ce1149e49cc9",
   "metadata": {},
   "outputs": [],
   "source": [
    "with ProgressBar():\n",
    "    mosaic_red.red.rio.to_raster(\"red_clipped.tif\")\n",
    "    mosaic_blue.blue.rio.to_raster(\"blue_clipped.tif\")\n",
    "    mosaic_green.green.rio.to_raster(\"green_clipped.tif\")"
   ]
  },
  {
   "cell_type": "code",
   "execution_count": null,
   "id": "ccd1b306-a8cd-433f-88fd-460b9b98a990",
   "metadata": {},
   "outputs": [],
   "source": [
    "# mosaic_red.red.rio.to_raster(\"red_clipped.tif\")\n",
    "# mosaic_blue.red.rio.to_raster(\"blue_clipped.tif\")\n",
    "# mosaic_green.red.rio.to_raster(\"green_clipped.tif\")"
   ]
  },
  {
   "cell_type": "code",
   "execution_count": null,
   "id": "fc488b25-d2ad-4634-bd69-2e8e5a8f16d9",
   "metadata": {},
   "outputs": [],
   "source": [
    "final_mosaic = xr.merge([mosaic_red, mosaic_green, mosaic_blue])"
   ]
  },
  {
   "cell_type": "code",
   "execution_count": null,
   "id": "1531e34d-3119-49ef-91ca-eb2575ac1015",
   "metadata": {},
   "outputs": [],
   "source": [
    "final_mosaic.rio.to_raster('final_mosaic.tif')"
   ]
  },
  {
   "cell_type": "code",
   "execution_count": null,
   "id": "4ae573e1-cb6e-4284-aff3-b9b7d76326a2",
   "metadata": {},
   "outputs": [],
   "source": []
  }
 ],
 "metadata": {
  "kernelspec": {
   "display_name": "Python 3 (ipykernel)",
   "language": "python",
   "name": "python3"
  },
  "language_info": {
   "codemirror_mode": {
    "name": "ipython",
    "version": 3
   },
   "file_extension": ".py",
   "mimetype": "text/x-python",
   "name": "python",
   "nbconvert_exporter": "python",
   "pygments_lexer": "ipython3",
   "version": "3.12.4"
  }
 },
 "nbformat": 4,
 "nbformat_minor": 5
}
