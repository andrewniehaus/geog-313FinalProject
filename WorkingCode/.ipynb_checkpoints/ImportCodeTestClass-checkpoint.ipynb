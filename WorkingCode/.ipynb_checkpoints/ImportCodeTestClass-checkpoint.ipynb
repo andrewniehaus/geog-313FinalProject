{
 "cells": [
  {
   "cell_type": "code",
   "execution_count": 1,
   "id": "04c858ef-42b6-4d7f-8195-bed254d68a8b",
   "metadata": {},
   "outputs": [
    {
     "data": {
      "application/vnd.jupyter.widget-view+json": {
       "model_id": "1982569f61304bb1a29f0a448b7e664e",
       "version_major": 2,
       "version_minor": 0
      },
      "text/plain": [
       "Dropdown(description='Start Year:', options=('2000', '2001', '2002', '2003', '2004', '2005', '2006', '2007', '…"
      ]
     },
     "metadata": {},
     "output_type": "display_data"
    },
    {
     "data": {
      "application/vnd.jupyter.widget-view+json": {
       "model_id": "80716c592f304cccbde4af7570b653f1",
       "version_major": 2,
       "version_minor": 0
      },
      "text/plain": [
       "Dropdown(description='Start Month:', options=('01', '02', '03', '04', '05', '06', '07', '08', '09', '10', '11'…"
      ]
     },
     "metadata": {},
     "output_type": "display_data"
    },
    {
     "data": {
      "application/vnd.jupyter.widget-view+json": {
       "model_id": "54c5afc6fe914dd090705c5f4565dc52",
       "version_major": 2,
       "version_minor": 0
      },
      "text/plain": [
       "Dropdown(description='Start Day:', options=('01', '02', '03', '04', '05', '06', '07', '08', '09', '10', '11', …"
      ]
     },
     "metadata": {},
     "output_type": "display_data"
    },
    {
     "data": {
      "application/vnd.jupyter.widget-view+json": {
       "model_id": "0f4d5aa2e41a45349cff35cd1ef64781",
       "version_major": 2,
       "version_minor": 0
      },
      "text/plain": [
       "Dropdown(description='End Year:', options=('2000', '2001', '2002', '2003', '2004', '2005', '2006', '2007', '20…"
      ]
     },
     "metadata": {},
     "output_type": "display_data"
    },
    {
     "data": {
      "application/vnd.jupyter.widget-view+json": {
       "model_id": "e94449d0871e4c84a47f683c18392a79",
       "version_major": 2,
       "version_minor": 0
      },
      "text/plain": [
       "Dropdown(description='End Month:', options=('01', '02', '03', '04', '05', '06', '07', '08', '09', '10', '11', …"
      ]
     },
     "metadata": {},
     "output_type": "display_data"
    },
    {
     "data": {
      "application/vnd.jupyter.widget-view+json": {
       "model_id": "c63e5306555645d197b5811922052bfa",
       "version_major": 2,
       "version_minor": 0
      },
      "text/plain": [
       "Dropdown(description='End Day:', options=('01', '02', '03', '04', '05', '06', '07', '08', '09', '10', '11', '1…"
      ]
     },
     "metadata": {},
     "output_type": "display_data"
    },
    {
     "data": {
      "application/vnd.jupyter.widget-view+json": {
       "model_id": "f1b9ee822de545c3aa059a85d3fc2c85",
       "version_major": 2,
       "version_minor": 0
      },
      "text/plain": [
       "Text(value='', description='AOI (bbox):', placeholder='Enter bbox as minX,minY,maxX,maxY')"
      ]
     },
     "metadata": {},
     "output_type": "display_data"
    }
   ],
   "source": [
    "import ipywidgets as widgets\n",
    "from IPython.display import display\n",
    "from datetime import datetime\n",
    "\n",
    "\n",
    "# Define the dropdown widgets for input\n",
    "start_year = widgets.Dropdown(\n",
    "    options=[str(year) for year in range(2000, 2025)],\n",
    "    description='Start Year:'\n",
    ")\n",
    "start_month = widgets.Dropdown(\n",
    "    options=[f\"{month:02d}\" for month in range(1, 13)],\n",
    "    description='Start Month:'\n",
    ")\n",
    "start_day = widgets.Dropdown(\n",
    "    options=[f\"{day:02d}\" for day in range(1, 32)],\n",
    "    description='Start Day:'\n",
    ")\n",
    "\n",
    "end_year = widgets.Dropdown(\n",
    "    options=[str(year) for year in range(2000, 2025)],\n",
    "    description='End Year:'\n",
    ")\n",
    "end_month = widgets.Dropdown(\n",
    "    options=[f\"{month:02d}\" for month in range(1, 13)],\n",
    "    description='End Month:'\n",
    ")\n",
    "end_day = widgets.Dropdown(\n",
    "    options=[f\"{day:02d}\" for day in range(1, 32)],\n",
    "    description='End Day:'\n",
    ")\n",
    "\n",
    "aoi_input = widgets.Text(\n",
    "    description=\"AOI (bbox):\",\n",
    "    placeholder=\"Enter bbox as minX,minY,maxX,maxY\"\n",
    ")\n",
    "\n",
    "\n",
    "# Display the widgets\n",
    "display(start_year, start_month, start_day, end_year, end_month, end_day, aoi_input)\n",
    "\n",
    "\n",
    "\n",
    "# Function to retrieve input from widgets\n",
    "def get_inputs():\n",
    "    try:\n",
    "        # Validate dates\n",
    "        start_date = datetime(\n",
    "            int(start_year.value), int(start_month.value), int(start_day.value)\n",
    "        ).strftime('%Y-%m-%d')\n",
    "        end_date = datetime(\n",
    "            int(end_year.value), int(end_month.value), int(end_day.value)\n",
    "        ).strftime('%Y-%m-%d')\n",
    "        \n",
    "        # Validate AOI input\n",
    "        aoi = [float(coord) for coord in aoi_input.value.split(\",\")]\n",
    "        if len(aoi) != 4:\n",
    "            print(\"Invalid AOI format. Please enter as minX,minY,maxX,maxY.\")\n",
    "            return None, None, None\n",
    "        \n",
    "        return start_date, end_date, aoi\n",
    "    except ValueError as e:\n",
    "        print(f\"Input error: {e}\")\n",
    "        return None, None, None"
   ]
  },
  {
   "cell_type": "code",
   "execution_count": 3,
   "id": "8541ec59-76f4-4e50-9e7d-c370349587ba",
   "metadata": {},
   "outputs": [
    {
     "ename": "SyntaxError",
     "evalue": "incomplete input (3413122992.py, line 120)",
     "output_type": "error",
     "traceback": [
      "\u001b[0;36m  Cell \u001b[0;32mIn[3], line 120\u001b[0;36m\u001b[0m\n\u001b[0;31m    \u001b[0m\n\u001b[0m    ^\u001b[0m\n\u001b[0;31mSyntaxError\u001b[0m\u001b[0;31m:\u001b[0m incomplete input\n"
     ]
    }
   ],
   "source": [
    "# List satellite collections with metadata\n",
    "satellite_sources = {\n",
    "    \"Sentinel-2\": {\n",
    "        \"Temporal Extent\": \"2015-Present\",\n",
    "        \"Spatial Resolution\": \"10m (Visible, NIR), 20m (Red Edge, SWIR), 60m (Coastal, Aerosols)\",\n",
    "        \"Return Time\": \"5 days\",\n",
    "        \"Bands\": \"B02 (Blue), B03 (Green), B04 (Red), B08 (NIR), others\"\n",
    "    },\n",
    "    \"Landsat 8-9\": {\n",
    "        \"Temporal Extent\": \"2013-Present\",\n",
    "        \"Spatial Resolution\": \"30m\",\n",
    "        \"Return Time\": \"16 days\",\n",
    "        \"Bands\": \"B1 (Coastal), B2 (Blue), B3 (Green), B4 (Red), B5 (NIR), others\"\n",
    "    },\n",
    "    \"NAIP (US only)\": {\n",
    "        \"Temporal Extent\": \"2010-Present (varies by state)\",\n",
    "        \"Spatial Resolution\": \"0.3m-1m\",\n",
    "        \"Return Time\": \"Every 2-3 years\",\n",
    "        \"Bands\": \"R, G, B, NIR (varies)\"\n",
    "    },\n",
    "}\n",
    "\n",
    "# Print satellite source options and metadata\n",
    "print(\"\\nAvailable Satellite Data Sources for Vegetation Analysis:\\n\")\n",
    "for source, metadata in satellite_sources.items():\n",
    "    print(f\"{source}:\")\n",
    "    for key, value in metadata.items():\n",
    "        print(f\"  {key}: {value}\")\n",
    "    print()\n",
    "\n",
    "\n",
    "\n",
    "# Function to query satellite collections using the previously set widget values\n",
    "def query_collections():\n",
    "    # Retrieve the values from the widgets\n",
    "    start_date = f\"{start_year.value}-{start_month.value}-{start_day.value}\"\n",
    "    end_date = f\"{end_year.value}-{end_month.value}-{end_day.value}\"\n",
    "    aoi = [float(coord) for coord in aoi_input.value.split(\",\")]\n",
    "\n",
    "    # Validate AOI format\n",
    "    if len(aoi) != 4:\n",
    "        raise ValueError(\"Invalid AOI format. Please enter as minX,minY,maxX,maxY.\")\n",
    "    \n",
    "    # Ensure AOI is a valid bounding box\n",
    "    aoi_geometry = box(*aoi)\n",
    "    bbox = aoi_geometry.bounds  # Get bounding box coordinates\n",
    "\n",
    "    # MPC STAC API endpoint\n",
    "    stac_url = \"https://planetarycomputer.microsoft.com/api/stac/v1\"\n",
    "    catalog = pystac_client.Client.open(stac_url)\n",
    "\n",
    "    # Satellite collections and their STAC IDs\n",
    "    collections = {\n",
    "        \"Sentinel-2\": \"sentinel-2-l2a\",\n",
    "        \"Landsat 8-9\": \"landsat-8-c2-l2\",\n",
    "        \"NAIP (US only)\": \"naip\",\n",
    "    }\n",
    "\n",
    "    # Results list to store collection data\n",
    "    all_results = []\n",
    "\n",
    "    # Query each collection\n",
    "    for name, collection_id in collections.items():\n",
    "        collection_box = widgets.VBox()  # Create a VBox for each collection's widget box\n",
    "        try:\n",
    "            search = catalog.search(\n",
    "                collections=[collection_id],\n",
    "                datetime=f\"{start_date}/{end_date}\",\n",
    "                bbox=bbox\n",
    "            )\n",
    "            items = list(search.get_items())\n",
    "            if items:\n",
    "                # Count images\n",
    "                num_images = len(items)\n",
    "                # Calculate average cloud coverage\n",
    "                cloud_coverages = [\n",
    "                    float(item.properties.get(\"eo:cloud_cover\", 0)) for item in items if \"eo:cloud_cover\" in item.properties\n",
    "                ]\n",
    "                avg_cloud_coverage = sum(cloud_coverages) / len(cloud_coverages) if cloud_coverages else \"N/A\"\n",
    "                \n",
    "                # Filter non-cloudy images (less than 5% cloud cover)\n",
    "                non_cloudy_items = [\n",
    "                    item for item in items \n",
    "                    if float(item.properties.get(\"eo:cloud_cover\", 100)) < 5\n",
    "                ]\n",
    "                non_cloudy_images = len(non_cloudy_items)\n",
    "                non_cloudy_dates = [\n",
    "                    item.properties[\"datetime\"][:10] for item in non_cloudy_items\n",
    "                ]\n",
    "\n",
    "                # Add the results as text to a text widget\n",
    "                results_text = (\n",
    "                    f\"**Collection:** {name}\\n\"\n",
    "                    f\"**Number of Images:** {num_images}\\n\"\n",
    "                    f\"**Average Cloud Coverage:** {avg_cloud_coverage:.2f}\\n\"\n",
    "                    f\"**Non-Cloudy Images (<5% Cloud):** {non_cloudy_images}\\n\"\n",
    "                )\n",
    "                results_widget = widgets.Textarea(\n",
    "                    value=results_text,\n",
    "                    layout=widgets.Layout(width=\"90%\", height=\"100px\"),\n",
    "                    disabled=True\n",
    "                )\n",
    "\n",
    "                # Create a scrollable list for low cloud cover dates\n",
    "                low_cloud_dates_widget = widgets.VBox([widgets.Label(f\"{date}\") for date in non_cloudy_dates])\n",
    "                \n",
    "                # Create a scrollable container for the dates using a Box with layout overflow\n",
    "                scrollable_widget = widgets.Box(\n",
    "                    children=[low_cloud_dates_widget],\n",
    "                    layout=widgets.Layout(\n",
    "                        width=\"200%\",\n",
    "                        height=\"200px\",\n",
    "                        overflow=\"auto\"  # This makes the content scrollable if too long\n",
    "                    )\n",
    "                )\n",
    "\n",
    "                # Create an expandable panel for low cloud cover dates\n",
    "                low_cloud_dates_widget = widgets.Accordion(children=[scrollable_widget])\n",
    "                low_cloud_dates_widget.set_title(0, f\"{name} Low Cloud (<5%)\")\n",
    "\n"
   ]
  }
 ],
 "metadata": {
  "kernelspec": {
   "display_name": "Python 3 (ipykernel)",
   "language": "python",
   "name": "python3"
  },
  "language_info": {
   "codemirror_mode": {
    "name": "ipython",
    "version": 3
   },
   "file_extension": ".py",
   "mimetype": "text/x-python",
   "name": "python",
   "nbconvert_exporter": "python",
   "pygments_lexer": "ipython3",
   "version": "3.12.4"
  }
 },
 "nbformat": 4,
 "nbformat_minor": 5
}
