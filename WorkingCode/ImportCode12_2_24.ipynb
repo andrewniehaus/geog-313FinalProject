{
 "cells": [
  {
   "cell_type": "code",
   "execution_count": 15,
   "id": "d11ba044-c28b-4fd4-b450-0bf293ac759e",
   "metadata": {},
   "outputs": [
    {
     "data": {
      "application/vnd.jupyter.widget-view+json": {
       "model_id": "794784e9b5cb443d89d288a002d93f62",
       "version_major": 2,
       "version_minor": 0
      },
      "text/plain": [
       "Dropdown(description='Start Year:', options=('2000', '2001', '2002', '2003', '2004', '2005', '2006', '2007', '…"
      ]
     },
     "metadata": {},
     "output_type": "display_data"
    },
    {
     "data": {
      "application/vnd.jupyter.widget-view+json": {
       "model_id": "b68a7925cd0a4219886aef5a3fdbc40e",
       "version_major": 2,
       "version_minor": 0
      },
      "text/plain": [
       "Dropdown(description='Start Month:', options=('01', '02', '03', '04', '05', '06', '07', '08', '09', '10', '11'…"
      ]
     },
     "metadata": {},
     "output_type": "display_data"
    },
    {
     "data": {
      "application/vnd.jupyter.widget-view+json": {
       "model_id": "7c6c5db1510f4714a5304e3773e2d52b",
       "version_major": 2,
       "version_minor": 0
      },
      "text/plain": [
       "Dropdown(description='Start Day:', options=('01', '02', '03', '04', '05', '06', '07', '08', '09', '10', '11', …"
      ]
     },
     "metadata": {},
     "output_type": "display_data"
    },
    {
     "data": {
      "application/vnd.jupyter.widget-view+json": {
       "model_id": "cd950ad1067248469a62325412e0b6f8",
       "version_major": 2,
       "version_minor": 0
      },
      "text/plain": [
       "Dropdown(description='End Year:', options=('2000', '2001', '2002', '2003', '2004', '2005', '2006', '2007', '20…"
      ]
     },
     "metadata": {},
     "output_type": "display_data"
    },
    {
     "data": {
      "application/vnd.jupyter.widget-view+json": {
       "model_id": "781cdd5fc343481e823de3e2bc0e8218",
       "version_major": 2,
       "version_minor": 0
      },
      "text/plain": [
       "Dropdown(description='End Month:', options=('01', '02', '03', '04', '05', '06', '07', '08', '09', '10', '11', …"
      ]
     },
     "metadata": {},
     "output_type": "display_data"
    },
    {
     "data": {
      "application/vnd.jupyter.widget-view+json": {
       "model_id": "74581f207ab944ba9eae91645228db8f",
       "version_major": 2,
       "version_minor": 0
      },
      "text/plain": [
       "Dropdown(description='End Day:', options=('01', '02', '03', '04', '05', '06', '07', '08', '09', '10', '11', '1…"
      ]
     },
     "metadata": {},
     "output_type": "display_data"
    },
    {
     "data": {
      "application/vnd.jupyter.widget-view+json": {
       "model_id": "f4fda00f2d534b88bbb6f0cf3ba0dc30",
       "version_major": 2,
       "version_minor": 0
      },
      "text/plain": [
       "Text(value='', description='AOI (bbox):', placeholder='Enter bbox as minX,minY,maxX,maxY')"
      ]
     },
     "metadata": {},
     "output_type": "display_data"
    },
    {
     "name": "stdout",
     "output_type": "stream",
     "text": [
      "\n",
      "Available Satellite Data Sources for Vegetation Analysis:\n",
      "\n",
      "Sentinel-2:\n",
      "  Temporal Extent: 2015-Present\n",
      "  Spatial Resolution: 10m (Visible, NIR), 20m (Red Edge, SWIR), 60m (Coastal, Aerosols)\n",
      "  Return Time: 5 days\n",
      "  Bands: B02 (Blue), B03 (Green), B04 (Red), B08 (NIR), others\n",
      "\n",
      "Landsat 8-9:\n",
      "  Temporal Extent: 2013-Present\n",
      "  Spatial Resolution: 30m\n",
      "  Return Time: 16 days\n",
      "  Bands: B1 (Coastal), B2 (Blue), B3 (Green), B4 (Red), B5 (NIR), others\n",
      "\n",
      "NAIP (US only):\n",
      "  Temporal Extent: 2010-Present (varies by state)\n",
      "  Spatial Resolution: 0.3m-1m\n",
      "  Return Time: Every 2-3 years\n",
      "  Bands: R, G, B, NIR (varies)\n",
      "\n"
     ]
    }
   ],
   "source": [
    "import ipywidgets as widgets\n",
    "from IPython.display import display\n",
    "from datetime import datetime\n",
    "\n",
    "# Define the dropdown widgets for input\n",
    "start_year = widgets.Dropdown(\n",
    "    options=[str(year) for year in range(2000, 2025)],\n",
    "    description='Start Year:'\n",
    ")\n",
    "start_month = widgets.Dropdown(\n",
    "    options=[f\"{month:02d}\" for month in range(1, 13)],\n",
    "    description='Start Month:'\n",
    ")\n",
    "start_day = widgets.Dropdown(\n",
    "    options=[f\"{day:02d}\" for day in range(1, 32)],\n",
    "    description='Start Day:'\n",
    ")\n",
    "\n",
    "end_year = widgets.Dropdown(\n",
    "    options=[str(year) for year in range(2000, 2025)],\n",
    "    description='End Year:'\n",
    ")\n",
    "end_month = widgets.Dropdown(\n",
    "    options=[f\"{month:02d}\" for month in range(1, 13)],\n",
    "    description='End Month:'\n",
    ")\n",
    "end_day = widgets.Dropdown(\n",
    "    options=[f\"{day:02d}\" for day in range(1, 32)],\n",
    "    description='End Day:'\n",
    ")\n",
    "\n",
    "aoi_input = widgets.Text(\n",
    "    description=\"AOI (bbox):\",\n",
    "    placeholder=\"Enter bbox as minX,minY,maxX,maxY\"\n",
    ")\n",
    "\n",
    "# Display the widgets\n",
    "display(start_year, start_month, start_day, end_year, end_month, end_day, aoi_input)\n",
    "\n",
    "# Function to retrieve input from widgets\n",
    "# Function to retrieve input from widgets\n",
    "def get_inputs():\n",
    "    try:\n",
    "        # Validate dates\n",
    "        start_date = datetime(\n",
    "            int(start_year.value), int(start_month.value), int(start_day.value)\n",
    "        ).strftime('%Y-%m-%d')\n",
    "        end_date = datetime(\n",
    "            int(end_year.value), int(end_month.value), int(end_day.value)\n",
    "        ).strftime('%Y-%m-%d')\n",
    "        \n",
    "        # Validate AOI input\n",
    "        try:\n",
    "            aoi = [float(coord) for coord in aoi_input.value.split(\",\")]\n",
    "            if len(aoi) != 4:\n",
    "                print(\"Invalid AOI format. Please enter as minX,minY,maxX,maxY.\")\n",
    "                return None, None, None\n",
    "            # Validate bounding box coordinates\n",
    "            if not (aoi[0] < aoi[2] and aoi[1] < aoi[3]):\n",
    "                print(\"Invalid AOI: Ensure minX < maxX and minY < maxY.\")\n",
    "                return None, None, None\n",
    "        except ValueError as e:\n",
    "            print(f\"Invalid AOI input. Error: {e}\")\n",
    "            return None, None, None\n",
    "        \n",
    "        return start_date, end_date, aoi\n",
    "    except ValueError as e:\n",
    "        print(f\"Input error: {e}\")\n",
    "        return None, None, None\n",
    "\n",
    "# List satellite collections with metadata\n",
    "satellite_sources = {\n",
    "    \"Sentinel-2\": {\n",
    "        \"Temporal Extent\": \"2015-Present\",\n",
    "        \"Spatial Resolution\": \"10m (Visible, NIR), 20m (Red Edge, SWIR), 60m (Coastal, Aerosols)\",\n",
    "        \"Return Time\": \"5 days\",\n",
    "        \"Bands\": \"B02 (Blue), B03 (Green), B04 (Red), B08 (NIR), others\"\n",
    "    },\n",
    "    \"Landsat 8-9\": {\n",
    "        \"Temporal Extent\": \"2013-Present\",\n",
    "        \"Spatial Resolution\": \"30m\",\n",
    "        \"Return Time\": \"16 days\",\n",
    "        \"Bands\": \"B1 (Coastal), B2 (Blue), B3 (Green), B4 (Red), B5 (NIR), others\"\n",
    "    },\n",
    "\n",
    "    \"NAIP (US only)\": {\n",
    "        \"Temporal Extent\": \"2010-Present (varies by state)\",\n",
    "        \"Spatial Resolution\": \"0.3m-1m\",\n",
    "        \"Return Time\": \"Every 2-3 years\",\n",
    "        \"Bands\": \"R, G, B, NIR (varies)\"\n",
    "    },\n",
    "}\n",
    "\n",
    "# Print satellite source options and metadata\n",
    "print(\"\\nAvailable Satellite Data Sources for Vegetation Analysis:\\n\")\n",
    "for source, metadata in satellite_sources.items():\n",
    "    print(f\"{source}:\")\n",
    "    for key, value in metadata.items():\n",
    "        print(f\"  {key}: {value}\")\n",
    "    print()"
   ]
  },
  {
   "cell_type": "code",
   "execution_count": 18,
   "id": "f873d267-2ff1-41b8-b31f-3a1af3a0e527",
   "metadata": {},
   "outputs": [
    {
     "data": {
      "application/vnd.jupyter.widget-view+json": {
       "model_id": "fa8d26312807485faf9bc8e109c043ec",
       "version_major": 2,
       "version_minor": 0
      },
      "text/plain": [
       "VBox(children=(Textarea(value='**Collection:** Sentinel-2\\n**Number of Images:** 859\\n**Average Cloud Coverage…"
      ]
     },
     "metadata": {},
     "output_type": "display_data"
    },
    {
     "data": {
      "application/vnd.jupyter.widget-view+json": {
       "model_id": "68d76e00749148c79c1ad0232f8aeb9f",
       "version_major": 2,
       "version_minor": 0
      },
      "text/plain": [
       "VBox(children=(Textarea(value='**Collection:** Landsat 8-9\\n**Number of Images:** 90\\n**Average Cloud Coverage…"
      ]
     },
     "metadata": {},
     "output_type": "display_data"
    },
    {
     "data": {
      "application/vnd.jupyter.widget-view+json": {
       "model_id": "f70bae9c561b45b6b78f9e4b09c62ef3",
       "version_major": 2,
       "version_minor": 0
      },
      "text/plain": [
       "VBox(children=(Textarea(value='**Collection:** NAIP (US only)\\n**Number of Images:** 324\\n**Average Cloud Cove…"
      ]
     },
     "metadata": {},
     "output_type": "display_data"
    }
   ],
   "source": [
    "import ipywidgets as widgets\n",
    "from shapely.geometry import box\n",
    "import geopandas as gpd\n",
    "import pystac_client\n",
    "\n",
    "# Function to query satellite collections using the previously set widget values\n",
    "def query_collections():\n",
    "    # Retrieve the values from the widgets\n",
    "    start_date = f\"{start_year.value}-{start_month.value}-{start_day.value}\"\n",
    "    end_date = f\"{end_year.value}-{end_month.value}-{end_day.value}\"\n",
    "    aoi = [float(coord) for coord in aoi_input.value.split(\",\")]\n",
    "\n",
    "    # Validate AOI format\n",
    "    if len(aoi) != 4:\n",
    "        raise ValueError(\"Invalid AOI format. Please enter as minX,minY,maxX,maxY.\")\n",
    "    \n",
    "    # Ensure AOI is a valid bounding box\n",
    "    try:\n",
    "        aoi_geometry = box(*aoi)  # This will raise an error if coordinates are invalid\n",
    "        bbox = aoi_geometry.bounds  # Get bounding box coordinates\n",
    "    except Exception as e:\n",
    "        raise ValueError(f\"Error creating bounding box from AOI: {e}\")\n",
    "\n",
    "    # MPC STAC API endpoint\n",
    "    stac_url = \"https://planetarycomputer.microsoft.com/api/stac/v1\"\n",
    "    catalog = pystac_client.Client.open(stac_url)\n",
    "\n",
    "    # Satellite collections and their STAC IDs\n",
    "    collections = {\n",
    "        \"Sentinel-2\": \"sentinel-2-l2a\",\n",
    "        \"Landsat 8-9\": \"landsat-8-c2-l2\",\n",
    "        \"NAIP (US only)\": \"naip\",\n",
    "    }\n",
    "\n",
    "    # Results list to store collection data\n",
    "    all_results = []\n",
    "\n",
    "    # Query each collection\n",
    "    for name, collection_id in collections.items():\n",
    "        collection_box = widgets.VBox()  # Create a VBox for each collection's widget box\n",
    "        try:\n",
    "            search = catalog.search(\n",
    "                collections=[collection_id],\n",
    "                datetime=f\"{start_date}/{end_date}\",\n",
    "                bbox=bbox\n",
    "            )\n",
    "            items = list(search.get_items())\n",
    "            if items:\n",
    "                # Count images\n",
    "                num_images = len(items)\n",
    "                \n",
    "                # Initialize default values for cloud coverage and dates\n",
    "                avg_cloud_coverage = \"N/A\"\n",
    "                non_cloudy_images = 0\n",
    "                non_cloudy_dates = []\n",
    "\n",
    "                # If not NAIP, calculate cloud coverage and filter non-cloudy images\n",
    "                if name != \"NAIP (US only)\":\n",
    "                    cloud_coverages = [\n",
    "                        float(item.properties.get(\"eo:cloud_cover\", 0)) for item in items if \"eo:cloud_cover\" in item.properties\n",
    "                    ]\n",
    "                    avg_cloud_coverage = sum(cloud_coverages) / len(cloud_coverages) if cloud_coverages else \"N/A\"\n",
    "                    \n",
    "                    # Filter non-cloudy images (less than 5% cloud cover)\n",
    "                    non_cloudy_items = [\n",
    "                        item for item in items \n",
    "                        if float(item.properties.get(\"eo:cloud_cover\", 100)) < 5\n",
    "                    ]\n",
    "                    non_cloudy_images = len(non_cloudy_items)\n",
    "\n",
    "                # Add the results as text to a text widget\n",
    "                results_text = (\n",
    "                    f\"**Collection:** {name}\\n\"\n",
    "                    f\"**Number of Images:** {num_images}\\n\"\n",
    "                    f\"**Average Cloud Coverage:** {avg_cloud_coverage}\\n\"\n",
    "                    f\"**Non-Cloudy Images (<5% Cloud):** {non_cloudy_images}\\n\"\n",
    "                )\n",
    "                results_widget = widgets.Textarea(\n",
    "                    value=results_text,\n",
    "                    layout=widgets.Layout(width=\"90%\", height=\"100px\"),\n",
    "                    disabled=True\n",
    "                )\n",
    "\n",
    "                # For non-NAIP collections, display the results without the non-cloudy date list\n",
    "                collection_box.children = [results_widget]\n",
    "\n",
    "            else:\n",
    "                # Handle no items case\n",
    "                results_text = (\n",
    "                    f\"**Collection:** {name}\\n\"\n",
    "                    f\"**Number of Images:** 0\\n\"\n",
    "                    f\"**Average Cloud Coverage:** N/A\\n\"\n",
    "                    f\"**Non-Cloudy Images (<5% Cloud):** 0\\n\"\n",
    "                )\n",
    "                results_widget = widgets.Textarea(\n",
    "                    value=results_text,\n",
    "                    layout=widgets.Layout(width=\"90%\", height=\"100px\"),\n",
    "                    disabled=True\n",
    "                )\n",
    "\n",
    "                # Add the results widget to the collection's VBox\n",
    "                collection_box.children = [results_widget]\n",
    "\n",
    "            # Add the collection's widget box to the main results list\n",
    "            all_results.append(collection_box)\n",
    "\n",
    "        except Exception as e:\n",
    "            # Handle error case\n",
    "            error_text = f\"**Collection:** {name}\\nError retrieving data: {e}\\n\"\n",
    "            error_widget = widgets.Textarea(\n",
    "                value=error_text,\n",
    "                layout=widgets.Layout(width=\"90%\", height=\"100px\"),\n",
    "                disabled=True\n",
    "            )\n",
    "            collection_box.children = [error_widget]\n",
    "            all_results.append(collection_box)\n",
    "\n",
    "    # Display all collection widgets\n",
    "    display(*all_results)\n",
    "\n",
    "# Call the query function immediately after defining it to load the results with widget inputs\n",
    "query_collections()\n"
   ]
  }
 ],
 "metadata": {
  "kernelspec": {
   "display_name": "Python 3 (ipykernel)",
   "language": "python",
   "name": "python3"
  },
  "language_info": {
   "codemirror_mode": {
    "name": "ipython",
    "version": 3
   },
   "file_extension": ".py",
   "mimetype": "text/x-python",
   "name": "python",
   "nbconvert_exporter": "python",
   "pygments_lexer": "ipython3",
   "version": "3.12.4"
  }
 },
 "nbformat": 4,
 "nbformat_minor": 5
}
